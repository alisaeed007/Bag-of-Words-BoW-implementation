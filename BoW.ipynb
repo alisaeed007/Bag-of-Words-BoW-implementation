{
  "nbformat": 4,
  "nbformat_minor": 0,
  "metadata": {
    "colab": {
      "provenance": []
    },
    "kernelspec": {
      "name": "python3",
      "display_name": "Python 3"
    },
    "language_info": {
      "name": "python"
    }
  },
  "cells": [
    {
      "cell_type": "code",
      "source": [
        "#!pip install scikit-learn==1.2.2 following code require Sk-learn 1.0 or above"
      ],
      "metadata": {
        "id": "DjNFX-2FfA1Y"
      },
      "execution_count": 41,
      "outputs": []
    },
    {
      "cell_type": "code",
      "source": [
        "import pandas as pd\n",
        "from sklearn.feature_extraction.text import CountVectorizer\n",
        "text = [\"hello world\", \"Hello how are you\"]\n",
        "\n",
        "\n",
        "coun_vect = CountVectorizer()\n",
        "count_matrix = coun_vect.fit_transform(text)\n",
        "count_array = count_matrix.toarray()\n",
        "\n",
        "df = pd.DataFrame(data=count_array,columns = coun_vect.get_feature_names_out())\n",
        "print(df)"
      ],
      "metadata": {
        "colab": {
          "base_uri": "https://localhost:8080/"
        },
        "id": "1KF5-Yb7ZgmK",
        "outputId": "9211320e-edd6-4be8-9eed-3740762bc612"
      },
      "execution_count": 40,
      "outputs": [
        {
          "output_type": "stream",
          "name": "stdout",
          "text": [
            "   are  hello  how  world  you\n",
            "0    0      1    0      1    0\n",
            "1    1      1    1      0    1\n"
          ]
        }
      ]
    }
  ]
}